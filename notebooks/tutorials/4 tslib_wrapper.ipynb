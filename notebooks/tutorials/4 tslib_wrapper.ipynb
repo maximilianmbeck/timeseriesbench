{
 "cells": [
  {
   "cell_type": "code",
   "execution_count": 1,
   "metadata": {},
   "outputs": [
    {
     "name": "stderr",
     "output_type": "stream",
     "text": [
      "/system/apps/userenv/prudniko/xlstm/lib/python3.10/site-packages/tqdm/auto.py:21: TqdmWarning: IProgress not found. Please update jupyter and ipywidgets. See https://ipywidgets.readthedocs.io/en/stable/user_install.html\n",
      "  from .autonotebook import tqdm as notebook_tqdm\n"
     ]
    }
   ],
   "source": [
    "%load_ext autoreload\n",
    "%autoreload 2\n",
    "from pathlib import Path\n",
    "import pandas as pd\n",
    "import sys\n",
    "sys.path.append('../../')\n",
    "from omegaconf import OmegaConf\n",
    "from dacite import from_dict\n",
    "\n",
    "from tsbench.tslib.traindataset_generator import TimeSeriesTrainDatasetGeneratorConfig, TimeSeriesTrainDatasetGenerator\n",
    "from tsbench.data.tslibwrapper import TsLibDatasetGenerator\n",
    "from tsbench.data import get_datasetgenerator\n",
    "from tsbench.ml_utils.config import NameAndKwargs"
   ]
  },
  {
   "cell_type": "code",
   "execution_count": 2,
   "metadata": {},
   "outputs": [],
   "source": [
    "import torch\n",
    "import numpy as np\n",
    "from omegaconf import OmegaConf\n",
    "from repo import REPO\n"
   ]
  },
  {
   "cell_type": "markdown",
   "metadata": {},
   "source": [
    "# The tslibwrapper"
   ]
  },
  {
   "cell_type": "markdown",
   "metadata": {},
   "source": [
    "The config is basically the same, as for the tslib TrainDatasetGenerator. We just need to wrap the config into a NameAndKwargs dataclass and specify the name `tslib` as dataset. See `tsbench/data/__init__.py`."
   ]
  },
  {
   "cell_type": "code",
   "execution_count": 3,
   "metadata": {},
   "outputs": [],
   "source": [
    "# this is only a minimal config and the time series are not normalized\n",
    "\n",
    "cfg = \"\"\" \n",
    "name: tslib\n",
    "kwargs:\n",
    "  pipeline:\n",
    "    dataset:\n",
    "      name: csvloader\n",
    "      kwargs:\n",
    "        data_file: ../../datafiles/har_with_smartphones/train.csv\n",
    "        meta_columns: [subject, Activity]\n",
    "    windowing:\n",
    "      window_size: 20 # each time series for the model will have length 10\n",
    "      stride: 5 # each time series will be shifted by 5\n",
    "    # TODO add normalization of the features\n",
    "    # store normalizer values in a file and load them in the normalizer\n",
    "    target_generator:\n",
    "      name: csv_classification\n",
    "      kwargs:\n",
    "        class_column: Activity\n",
    "        class_labels: ['STANDING', 'SITTING', 'LAYING', 'WALKING', 'WALKING_DOWNSTAIRS', 'WALKING_UPSTAIRS']\n",
    "  \n",
    "  split: \n",
    "    name: random_split\n",
    "    kwargs:\n",
    "      lengths: [0.8, 0.2] # train, val\n",
    "\"\"\"\n",
    "cfg = OmegaConf.create(cfg)\n",
    "\n",
    "cfg = from_dict(data_class=NameAndKwargs, data=OmegaConf.to_container(cfg))"
   ]
  },
  {
   "cell_type": "markdown",
   "metadata": {},
   "source": [
    "Now again, we explore some basic properties of the class `TsLibDataset`. This time not many comments, it is pretty same as before. Feel free to explore."
   ]
  },
  {
   "cell_type": "code",
   "execution_count": 4,
   "metadata": {},
   "outputs": [
    {
     "name": "stdout",
     "output_type": "stream",
     "text": [
      "Sample: 100%|████████████████████████████████████████████████████████████████| 126/126 [00:00<00:00, 414.64it/s]\n",
      "Sample: 100%|████████████████████████████████████████████████████████████████| 126/126 [00:00<00:00, 423.94it/s]\n",
      "Generating window index: 100%|██████████████████████████████████████████████| 126/126 [00:00<00:00, 7669.50it/s]\n",
      "Total number of dropped timesteps due to windowing: 272\n"
     ]
    }
   ],
   "source": [
    "ds_gen = get_datasetgenerator(cfg)\n",
    "ds_gen.generate_dataset()"
   ]
  },
  {
   "cell_type": "code",
   "execution_count": 5,
   "metadata": {},
   "outputs": [
    {
     "data": {
      "text/plain": [
       "((561,), (6, 1), 20)"
      ]
     },
     "execution_count": 5,
     "metadata": {},
     "output_type": "execute_result"
    }
   ],
   "source": [
    "ds_gen.input_dim, ds_gen.output_dim, ds_gen.context_length"
   ]
  },
  {
   "cell_type": "code",
   "execution_count": 6,
   "metadata": {},
   "outputs": [],
   "source": [
    "train_ds = ds_gen.train_split"
   ]
  },
  {
   "cell_type": "code",
   "execution_count": 7,
   "metadata": {},
   "outputs": [
    {
     "data": {
      "text/plain": [
       "<tsbench.data.tslibwrapper.TsLibDataset at 0x7f9848117040>"
      ]
     },
     "execution_count": 7,
     "metadata": {},
     "output_type": "execute_result"
    }
   ],
   "source": [
    "train_ds"
   ]
  },
  {
   "cell_type": "code",
   "execution_count": 8,
   "metadata": {},
   "outputs": [
    {
     "data": {
      "text/plain": [
       "(tensor([[-0.4581, -0.1030, -0.3039,  ..., -0.9861, -0.9724, -0.9806],\n",
       "         [-0.4550, -0.1039, -0.3058,  ..., -0.9945, -0.9772, -0.9829],\n",
       "         [ 0.1062, -0.3395, -0.5171,  ..., -0.9321, -0.8889, -0.9153],\n",
       "         ...,\n",
       "         [-0.6517, -0.0929, -0.1359,  ..., -0.9110, -0.7530, -0.5462],\n",
       "         [-0.7156, -0.0548, -0.1137,  ..., -0.9908, -0.9478, -0.9370],\n",
       "         [-0.6989, -0.0670, -0.1167,  ..., -0.9908, -0.9776, -0.9826]]),\n",
       " tensor(1))"
      ]
     },
     "execution_count": 8,
     "metadata": {},
     "output_type": "execute_result"
    }
   ],
   "source": [
    "train_ds[0]"
   ]
  },
  {
   "cell_type": "code",
   "execution_count": 9,
   "metadata": {},
   "outputs": [
    {
     "data": {
      "text/plain": [
       "MetricCollection\n",
       ")"
      ]
     },
     "execution_count": 9,
     "metadata": {},
     "output_type": "execute_result"
    }
   ],
   "source": [
    "ds_gen.train_metrics"
   ]
  },
  {
   "cell_type": "code",
   "execution_count": 10,
   "metadata": {},
   "outputs": [
    {
     "data": {
      "text/plain": [
       "MetricCollection\n",
       ")"
      ]
     },
     "execution_count": 10,
     "metadata": {},
     "output_type": "execute_result"
    }
   ],
   "source": [
    "ds_gen.validation_metrics"
   ]
  },
  {
   "cell_type": "markdown",
   "metadata": {},
   "source": [
    "# Big Config and running jobs\n",
    "\n",
    "The ultimate goal would be to create config file which will do the training. An example of such config is below."
   ]
  },
  {
   "cell_type": "markdown",
   "metadata": {},
   "source": [
    "Before running cell below make sure you:\n",
    "- have `repo.py` in the same directory with you notebook\n",
    "- have directory `configs` in the repository   "
   ]
  },
  {
   "cell_type": "code",
   "execution_count": 11,
   "metadata": {},
   "outputs": [
    {
     "name": "stdout",
     "output_type": "stream",
     "text": [
      "CUDA_VISIBLE_DEVICES=0 python run.py --config-name tslib-causalselfattention--lr_0.yaml\n"
     ]
    }
   ],
   "source": [
    "config_yaml = \"\"\"\n",
    "run_config:\n",
    "  exec_type: parallel\n",
    "  hostname: yourname\n",
    "  gpu_ids: [0]\n",
    "  runs_per_gpu: 4\n",
    "  use_cuda_visible_devices: True\n",
    "  shuffle_configs: True\n",
    "\n",
    "seeds: [0]\n",
    "\n",
    "# sweep:\n",
    "#   type: grid\n",
    "#   axes: \n",
    "#   - parameter: model.kwargs.optimizer.lr\n",
    "#     vals: [1e-3]\n",
    "#   - parameter: data.dl_kwargs.batch_size\n",
    "#     vals: [256]\n",
    "#   - parameter: model.optimizer.weight_decay\n",
    "#     vals: [0.0, 1e-2, 1e-1]\n",
    "\n",
    "start_num: 0\n",
    "config:\n",
    "  experiment_data:\n",
    "    entity: fslgroup\n",
    "    project_name: tsbench\n",
    "    experiment_tag: 'tslib-${config.model.kwargs.block.kwargs.sequence_mix.name}'\n",
    "    experiment_type: lr_${start_num}\n",
    "    experiment_name: ${config.experiment_data.experiment_tag}--${config.experiment_data.experiment_type}\n",
    "    experiment_dir: null\n",
    "    # output_dir: ./outputs\n",
    "    experiment_notes: \n",
    "    seed: 0\n",
    "    gpu_id: 0\n",
    "   \n",
    "  model:\n",
    "    name: sequence_transformer\n",
    "    kwargs:\n",
    "      num_layers: 3\n",
    "      embedding_dim: 64\n",
    "      dropout: 0.0\n",
    "      bias: True\n",
    "      block:\n",
    "        name: prenorm_block\n",
    "        kwargs:\n",
    "          feedforward:\n",
    "            name: ff\n",
    "          sequence_mix:\n",
    "            name: causalselfattention\n",
    "            kwargs:\n",
    "              num_heads: 4\n",
    "              use_flash: True\n",
    "\n",
    "      encoder:\n",
    "        name: linear\n",
    "      decoder:\n",
    "        name: sequence\n",
    "        kwargs:\n",
    "          agg_mode: pool\n",
    "          use_lengths: False\n",
    "\n",
    "  loss:\n",
    "    name: crossentropy_sequence\n",
    "            \n",
    "  trainer:\n",
    "    n_steps: 100 #20000 #20\n",
    "    val_every: 10\n",
    "    save_every: 25e3 \n",
    "    early_stopping_patience: 50000 #250 #1000\n",
    "    num_workers: 4\n",
    "    gradient_clip_norm: 10.0 #1.0\n",
    "    training_strategy:\n",
    "      enable_mixed_precision: True\n",
    "      precision: bfloat16\n",
    "      use_torch_compile: False\n",
    "    gradient_accumulation_steps: 1 #16\n",
    "    optimizer:\n",
    "      name: AdamW\n",
    "      kwargs:\n",
    "        lr: 1e-3\n",
    "        weight_decay: 0.1\n",
    "        betas: [0.9, 0.99]\n",
    "    lr_scheduler_step: step\n",
    "    lr_scheduler: # this scheduler has warumup and is then constant\n",
    "      name: warmup_cosine_annealing\n",
    "      kwargs:\n",
    "        warmup_steps: 100\n",
    "        decay_until_step: 100 #1500 #3000\n",
    "        min_lr: ${config.trainer.optimizer.kwargs.lr} # same as initial lr\n",
    "\n",
    "  data: \n",
    "    name: tslib\n",
    "    kwargs:\n",
    "      pipeline:\n",
    "        dataset:\n",
    "          name: csvloader\n",
    "          kwargs:\n",
    "            data_file: ../../datafiles/har_with_smartphones/train.csv\n",
    "            meta_columns: [subject, Activity]\n",
    "        windowing:\n",
    "          window_size: 20 # each time series for the model will have length 10\n",
    "          stride: 5 # each time series will be shifted by 5\n",
    "        normalizer: \n",
    "          normalizer_file: ../../datafiles/har_with_smartphones/normalizer.json\n",
    "        target_generator:\n",
    "          name: csv_classification\n",
    "          kwargs:\n",
    "            class_column: Activity\n",
    "            class_labels: ['STANDING', 'SITTING', 'LAYING', 'WALKING', 'WALKING_DOWNSTAIRS', 'WALKING_UPSTAIRS']\n",
    "        cache_processed_dataset: True \n",
    "      \n",
    "      split: \n",
    "        name: random_split\n",
    "        kwargs:\n",
    "          lengths: [0.8, 0.2] # train, val\n",
    "\n",
    "    stateful_train_dataset: True\n",
    "    dl_kwargs:\n",
    "      batch_size: 256 #32\n",
    "      shuffle: True\n",
    "\"\"\"\n",
    "cfg = OmegaConf.create(config_yaml)\n",
    "run_command = REPO.create_experiment(cfg, override=True)\n",
    "print(run_command)"
   ]
  },
  {
   "cell_type": "markdown",
   "metadata": {},
   "source": [
    "The command printed above can be copypasted in your terminal to start the job.\n",
    "\n",
    "<hr>\n",
    "Some short explanations about config sections.\n",
    "\n",
    "- **sweep**: Specifies that a hyperparameter sweep will be performed.\n",
    "\n",
    "  - *type*: Specifies the type of sweep, and in this case, it's a grid search. \n",
    "      available types are grid, line, random, random_grid. See `~/tsbench/tsbench/ml_utils/run_utils/sweep.py` to learn about them. \n",
    "\n",
    "  - *axes*: Describes the hyperparameters to be tuned and their possible values.\n",
    "\n",
    "    - *parameter*: Indicates the hyperparameter being tuned.\n",
    "\n",
    "    - *vals*: Specifies the different values that the hyperparameter will take during the sweep.\n",
    "\n",
    "- **run_config:** Specifies the configuration for the execution, including parallelization, GPU settings, and seed.\n",
    "\n",
    "- **seeds:** List of random seeds.\n",
    "\n",
    "- **start_num:** Starting number for the experiment.\n",
    "\n",
    "- **config:** The main configuration section.\n",
    "\n",
    "  - *experiment_data:* Information about the experiment, including entity, project name, tags, and GPU settings.\n",
    "\n",
    "  - *model:* Configuration for the model architecture, specifying the type, layers, dimensions, and other relevant parameters.\n",
    "\n",
    "  - *loss:* Specifies the loss function for the model.\n",
    "\n",
    "  - *trainer:* Configuration for the training process, including steps, validation frequency, save frequency, early stopping, optimizer, learning rate scheduler, and other training-related parameters.\n",
    "\n",
    "  - *data:* Configuration for the dataset, including dataset type, data loading, windowing, normalization, target generation, and dataset splitting.\n",
    "\n",
    "    - *pipeline:* Configuration for the data processing pipeline, including dataset loading, windowing, normalization, target generation, and caching.\n",
    "\n",
    "    - *split:* Configuration for dataset splitting, specifying the split type and lengths.\n",
    "\n",
    "    - *stateful_train_dataset:* Flag indicating whether the training dataset is stateful.\n",
    "\n",
    "    - *dl_kwargs:* Configuration for the data loader, including batch size and shuffling."
   ]
  },
  {
   "cell_type": "code",
   "execution_count": null,
   "metadata": {},
   "outputs": [],
   "source": []
  }
 ],
 "metadata": {
  "kernelspec": {
   "display_name": "Python 3 (ipykernel)",
   "language": "python",
   "name": "python3"
  },
  "language_info": {
   "codemirror_mode": {
    "name": "ipython",
    "version": 3
   },
   "file_extension": ".py",
   "mimetype": "text/x-python",
   "name": "python",
   "nbconvert_exporter": "python",
   "pygments_lexer": "ipython3",
   "version": "3.10.10"
  }
 },
 "nbformat": 4,
 "nbformat_minor": 2
}
