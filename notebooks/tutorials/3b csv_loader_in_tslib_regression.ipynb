{
 "cells": [
  {
   "cell_type": "code",
   "execution_count": 14,
   "metadata": {
    "ExecuteTime": {
     "end_time": "2023-11-14T09:03:05.055305764Z",
     "start_time": "2023-11-14T09:03:04.944815185Z"
    }
   },
   "outputs": [
    {
     "name": "stdout",
     "output_type": "stream",
     "text": [
      "The autoreload extension is already loaded. To reload it, use:\n",
      "  %reload_ext autoreload\n"
     ]
    }
   ],
   "source": [
    "%load_ext autoreload\n",
    "%autoreload 2\n",
    "from dataclasses import dataclass\n",
    "from pathlib import Path\n",
    "import pandas as pd\n",
    "import sys\n",
    "sys.path.append('../../')\n",
    "from omegaconf import OmegaConf\n",
    "from dacite import from_dict\n",
    "\n",
    "from tsbench.tslib.loading.csv_loader import CSVTimeSeriesDataset\n",
    "from tsbench.tslib.traindataset_generator import TimeSeriesTrainDatasetGeneratorConfig, TimeSeriesTrainDatasetGenerator"
   ]
  },
  {
   "cell_type": "markdown",
   "metadata": {},
   "source": [
    "### with unormalized Dataset"
   ]
  },
  {
   "cell_type": "markdown",
   "metadata": {},
   "source": [
    "Then we need to create a configuration for tslib. For this we need to mirror the config defined in `tslib/traindataset_generator.py`:"
   ]
  },
  {
   "cell_type": "code",
   "execution_count": 22,
   "metadata": {
    "ExecuteTime": {
     "end_time": "2023-11-14T09:04:59.425439838Z",
     "start_time": "2023-11-14T09:04:59.307701596Z"
    }
   },
   "outputs": [],
   "source": [
    "\n",
    "# this is only a minimal config and the time series are not normalized\n",
    "\n",
    "cfg = \"\"\" \n",
    "pipeline:\n",
    "  dataset:\n",
    "    name: multicsvloader\n",
    "    kwargs:\n",
    "      data_folder: /home/daran/Program/tsbench/datafiles/nsdb_2019\n",
    "      meta_columns: []\n",
    "  windowing:\n",
    "    window_size: 20 # each time series for the model will have length 10\n",
    "    stride: 5 # each time series will be shifted by 5\n",
    "  # TODO add normalization of the features\n",
    "  # store normalizer values in a file and load them in the normalizer\n",
    "  feature_selector:\n",
    "    select_features:\n",
    "        - 'dni'\n",
    "        - 'dew_point'\n",
    "        - 'air_temperature'\n",
    "        - 'wind_speed'\n",
    "        - 'total_precipitable_water'\n",
    "        - 'dhi'\n",
    "    drop_features: []\n",
    "  target_generator:\n",
    "    name: many_to_many_regression\n",
    "    kwargs:\n",
    "      input_features:\n",
    "        - 'dni'\n",
    "        - 'dew_point'\n",
    "        - 'air_temperature'\n",
    "        - 'wind_speed'\n",
    "        - 'total_precipitable_water'\n",
    "      target_features:\n",
    "        - 'dhi'\n",
    "      target_shift: 0\n",
    "      added_meta_features: []\n",
    "\n",
    "split: \n",
    "  name: random_split\n",
    "  kwargs:\n",
    "    lengths: [0.8, 0.2] # train, val\n",
    "\"\"\"\n",
    "cfg = OmegaConf.create(cfg)\n",
    "\n",
    "cfg = from_dict(data_class=TimeSeriesTrainDatasetGeneratorConfig, data=OmegaConf.to_container(cfg))"
   ]
  },
  {
   "cell_type": "code",
   "execution_count": 23,
   "metadata": {
    "ExecuteTime": {
     "end_time": "2023-11-14T09:05:03.308608988Z",
     "start_time": "2023-11-14T09:05:03.201394539Z"
    }
   },
   "outputs": [
    {
     "data": {
      "text/plain": "TimeSeriesTrainDatasetGeneratorConfig(pipeline=ComposedTimeSeriesDatasetConfig(dataset=NameAndKwargs(name='multicsvloader', kwargs={'data_folder': '/home/daran/Program/tsbench/datafiles/nsdb_2019', 'meta_columns': []}), windowing=TimeSeriesWindowDatasetConfig(window_size=20, stride=5, initial_offset=0, end_offset=0, future_steps=0, past_steps=0), partition_filter=NameAndKwargs(name='no_filter', kwargs={}), feature_selector=FeatureSelectorConfig(select_features=['dni', 'dew_point', 'air_temperature', 'wind_speed', 'total_precipitable_water', 'dhi'], drop_features=[]), normalizer=NormalizerConfig(normalizer_values={}, normalize_features=set(), drop_zero_variance_features=True, eps=1e-08, normalizer_file=None), transforms=[], target_generator=NameAndKwargs(name='many_to_many_regression', kwargs={'input_features': ['dni', 'dew_point', 'air_temperature', 'wind_speed', 'total_precipitable_water'], 'target_features': ['dhi'], 'target_shift': 0, 'added_meta_features': []}), cache_processed_dataset=False), split=NameAndKwargs(name='random_split', kwargs={'lengths': [0.8, 0.2]}), metric_train=[], metric_val=[])"
     },
     "execution_count": 23,
     "metadata": {},
     "output_type": "execute_result"
    }
   ],
   "source": [
    "cfg"
   ]
  },
  {
   "cell_type": "code",
   "execution_count": 26,
   "metadata": {
    "ExecuteTime": {
     "end_time": "2023-11-14T09:22:13.847209187Z",
     "start_time": "2023-11-14T09:22:10.630003100Z"
    }
   },
   "outputs": [
    {
     "name": "stdout",
     "output_type": "stream",
     "text": [
      "Sample: 100%|██████████| 50/50 [00:00<00:00, 373.84it/s]\n",
      "Sample: 100%|██████████| 50/50 [00:00<00:00, 381.52it/s]\n",
      "Generating window index: 100%|██████████| 50/50 [00:01<00:00, 31.80it/s]\n",
      "Total number of dropped timesteps due to windowing: 0\n"
     ]
    }
   ],
   "source": [
    "ds_gen = TimeSeriesTrainDatasetGenerator(cfg)\n",
    "ds_gen.generate_dataset()"
   ]
  },
  {
   "cell_type": "code",
   "execution_count": 27,
   "metadata": {
    "ExecuteTime": {
     "end_time": "2023-11-14T09:22:13.894060437Z",
     "start_time": "2023-11-14T09:22:13.852160634Z"
    }
   },
   "outputs": [],
   "source": [
    "train_ds = ds_gen.train_split"
   ]
  },
  {
   "cell_type": "code",
   "execution_count": 28,
   "metadata": {
    "ExecuteTime": {
     "end_time": "2023-11-14T09:22:19.181503400Z",
     "start_time": "2023-11-14T09:22:19.117100584Z"
    }
   },
   "outputs": [
    {
     "data": {
      "text/plain": "<tsbench.tslib.postprocessing.dataset_subset.TimeSeriesTrainDatasetSubset at 0x7fdf78189fc0>"
     },
     "execution_count": 28,
     "metadata": {},
     "output_type": "execute_result"
    }
   ],
   "source": [
    "train_ds"
   ]
  },
  {
   "cell_type": "code",
   "execution_count": 29,
   "metadata": {
    "ExecuteTime": {
     "end_time": "2023-11-14T09:22:28.555271591Z",
     "start_time": "2023-11-14T09:22:28.466834966Z"
    }
   },
   "outputs": [
    {
     "data": {
      "text/plain": "        ComposedTimeSeriesDataset_index  MultiCSVTimeSeriesDataset_index  \\\n0                                 45155                               12   \n1                                 78542                               22   \n2                                119964                               34   \n3                                100796                               28   \n4                                141228                               40   \n...                                 ...                              ...   \n140035                           173845                               49   \n140036                            71315                               20   \n140037                            34983                                9   \n140038                            65807                               18   \n140039                            46801                               13   \n\n                                                      key   index  \\\n0       King-Seattle_wi[|15715:15715|15715:15735|15735...   45155   \n1       Wayne-Detroit_wi[|7600:7600|7600:7620|7620:7620|]   78542   \n2        Brazos-Bryan_wi[|4650:4650|4650:4670|4670:4670|]  119964   \n3       Dallas-Dallas_wi[|13840:13840|13840:13860|1386...  100796   \n4       Travis-Austin_wi[|5940:5940|5940:5960|5960:5960|]  141228   \n...                                                   ...     ...   \n140035  Utah-Provo_wi[|11480:11480|11480:11500|11500:1...  173845   \n140036   Ventura-None_wi[|6475:6475|6475:6495|6495:6495|]   71315   \n140037  District_of_Columbia-Washington_wi[|17370:1737...   34983   \n140038  Santa_Clara-San_Jose3_wi[|13945:13945|13945:13...   65807   \n140039  Orleans-New_Orleans_wi[|6440:6440|6440:6460|64...   46801   \n\n        num_timesteps  \n0                  20  \n1                  20  \n2                  20  \n3                  20  \n4                  20  \n...               ...  \n140035             20  \n140036             20  \n140037             20  \n140038             20  \n140039             20  \n\n[140040 rows x 5 columns]",
      "text/html": "<div>\n<style scoped>\n    .dataframe tbody tr th:only-of-type {\n        vertical-align: middle;\n    }\n\n    .dataframe tbody tr th {\n        vertical-align: top;\n    }\n\n    .dataframe thead th {\n        text-align: right;\n    }\n</style>\n<table border=\"1\" class=\"dataframe\">\n  <thead>\n    <tr style=\"text-align: right;\">\n      <th></th>\n      <th>ComposedTimeSeriesDataset_index</th>\n      <th>MultiCSVTimeSeriesDataset_index</th>\n      <th>key</th>\n      <th>index</th>\n      <th>num_timesteps</th>\n    </tr>\n  </thead>\n  <tbody>\n    <tr>\n      <th>0</th>\n      <td>45155</td>\n      <td>12</td>\n      <td>King-Seattle_wi[|15715:15715|15715:15735|15735...</td>\n      <td>45155</td>\n      <td>20</td>\n    </tr>\n    <tr>\n      <th>1</th>\n      <td>78542</td>\n      <td>22</td>\n      <td>Wayne-Detroit_wi[|7600:7600|7600:7620|7620:7620|]</td>\n      <td>78542</td>\n      <td>20</td>\n    </tr>\n    <tr>\n      <th>2</th>\n      <td>119964</td>\n      <td>34</td>\n      <td>Brazos-Bryan_wi[|4650:4650|4650:4670|4670:4670|]</td>\n      <td>119964</td>\n      <td>20</td>\n    </tr>\n    <tr>\n      <th>3</th>\n      <td>100796</td>\n      <td>28</td>\n      <td>Dallas-Dallas_wi[|13840:13840|13840:13860|1386...</td>\n      <td>100796</td>\n      <td>20</td>\n    </tr>\n    <tr>\n      <th>4</th>\n      <td>141228</td>\n      <td>40</td>\n      <td>Travis-Austin_wi[|5940:5940|5940:5960|5960:5960|]</td>\n      <td>141228</td>\n      <td>20</td>\n    </tr>\n    <tr>\n      <th>...</th>\n      <td>...</td>\n      <td>...</td>\n      <td>...</td>\n      <td>...</td>\n      <td>...</td>\n    </tr>\n    <tr>\n      <th>140035</th>\n      <td>173845</td>\n      <td>49</td>\n      <td>Utah-Provo_wi[|11480:11480|11480:11500|11500:1...</td>\n      <td>173845</td>\n      <td>20</td>\n    </tr>\n    <tr>\n      <th>140036</th>\n      <td>71315</td>\n      <td>20</td>\n      <td>Ventura-None_wi[|6475:6475|6475:6495|6495:6495|]</td>\n      <td>71315</td>\n      <td>20</td>\n    </tr>\n    <tr>\n      <th>140037</th>\n      <td>34983</td>\n      <td>9</td>\n      <td>District_of_Columbia-Washington_wi[|17370:1737...</td>\n      <td>34983</td>\n      <td>20</td>\n    </tr>\n    <tr>\n      <th>140038</th>\n      <td>65807</td>\n      <td>18</td>\n      <td>Santa_Clara-San_Jose3_wi[|13945:13945|13945:13...</td>\n      <td>65807</td>\n      <td>20</td>\n    </tr>\n    <tr>\n      <th>140039</th>\n      <td>46801</td>\n      <td>13</td>\n      <td>Orleans-New_Orleans_wi[|6440:6440|6440:6460|64...</td>\n      <td>46801</td>\n      <td>20</td>\n    </tr>\n  </tbody>\n</table>\n<p>140040 rows × 5 columns</p>\n</div>"
     },
     "execution_count": 29,
     "metadata": {},
     "output_type": "execute_result"
    }
   ],
   "source": [
    "train_ds.get_meta_data_summary()"
   ]
  },
  {
   "cell_type": "code",
   "execution_count": 30,
   "metadata": {
    "ExecuteTime": {
     "end_time": "2023-11-14T09:22:32.991162019Z",
     "start_time": "2023-11-14T09:22:32.899361525Z"
    }
   },
   "outputs": [
    {
     "data": {
      "text/plain": "{'x': tensor([[0.0000e+00, 8.1000e+00, 8.2000e+00, 1.0000e+00, 1.5000e+00],\n         [0.0000e+00, 7.3000e+00, 7.8000e+00, 1.0000e+00, 1.3000e+00],\n         [0.0000e+00, 7.3000e+00, 7.6000e+00, 1.0000e+00, 1.1000e+00],\n         [0.0000e+00, 6.8000e+00, 7.5000e+00, 1.0000e+00, 1.0000e+00],\n         [0.0000e+00, 6.8000e+00, 7.3000e+00, 9.0000e-01, 1.0000e+00],\n         [0.0000e+00, 6.3000e+00, 7.1000e+00, 9.0000e-01, 9.0000e-01],\n         [0.0000e+00, 6.3000e+00, 6.7000e+00, 9.0000e-01, 9.0000e-01],\n         [0.0000e+00, 5.7000e+00, 6.4000e+00, 9.0000e-01, 9.0000e-01],\n         [0.0000e+00, 5.8000e+00, 6.1000e+00, 9.0000e-01, 9.0000e-01],\n         [0.0000e+00, 5.3000e+00, 5.8000e+00, 1.0000e+00, 9.0000e-01],\n         [0.0000e+00, 5.3000e+00, 5.5000e+00, 1.0000e+00, 9.0000e-01],\n         [0.0000e+00, 4.8000e+00, 5.2000e+00, 1.0000e+00, 9.0000e-01],\n         [5.5000e+01, 4.9000e+00, 5.4000e+00, 9.0000e-01, 9.0000e-01],\n         [3.3900e+02, 5.3000e+00, 5.7000e+00, 7.0000e-01, 8.0000e-01],\n         [2.3700e+02, 5.3000e+00, 6.3000e+00, 7.0000e-01, 8.0000e-01],\n         [4.4300e+02, 6.1000e+00, 6.9000e+00, 7.0000e-01, 8.0000e-01],\n         [6.9600e+02, 6.1000e+00, 7.2000e+00, 7.0000e-01, 9.0000e-01],\n         [7.3900e+02, 6.5000e+00, 7.6000e+00, 7.0000e-01, 9.0000e-01],\n         [7.7100e+02, 6.5000e+00, 8.0000e+00, 7.0000e-01, 9.0000e-01],\n         [7.7100e+02, 6.5000e+00, 8.5000e+00, 6.0000e-01, 9.0000e-01]]),\n 'y': tensor([[ 0.],\n         [ 0.],\n         [ 0.],\n         [ 0.],\n         [ 0.],\n         [ 0.],\n         [ 0.],\n         [ 0.],\n         [ 0.],\n         [ 0.],\n         [ 0.],\n         [ 0.],\n         [ 6.],\n         [25.],\n         [41.],\n         [56.],\n         [52.],\n         [58.],\n         [61.],\n         [66.]])}"
     },
     "execution_count": 30,
     "metadata": {},
     "output_type": "execute_result"
    }
   ],
   "source": [
    "train_ds[0]"
   ]
  },
  {
   "cell_type": "code",
   "execution_count": 31,
   "metadata": {
    "ExecuteTime": {
     "end_time": "2023-11-14T09:22:40.918012046Z",
     "start_time": "2023-11-14T09:22:40.858078836Z"
    }
   },
   "outputs": [
    {
     "data": {
      "text/plain": "torch.Size([20, 5])"
     },
     "execution_count": 31,
     "metadata": {},
     "output_type": "execute_result"
    }
   ],
   "source": [
    "train_ds[0]['x'].shape"
   ]
  },
  {
   "cell_type": "code",
   "execution_count": 32,
   "metadata": {
    "ExecuteTime": {
     "end_time": "2023-11-14T09:22:41.956677502Z",
     "start_time": "2023-11-14T09:22:41.901573236Z"
    }
   },
   "outputs": [
    {
     "data": {
      "text/plain": "(140040,\n 35010,\n tsbench.tslib.postprocessing.dataset_subset.TimeSeriesTrainDatasetSubset)"
     },
     "execution_count": 32,
     "metadata": {},
     "output_type": "execute_result"
    }
   ],
   "source": [
    "len(train_ds), len(ds_gen.validation_split), type(ds_gen.validation_split)"
   ]
  },
  {
   "cell_type": "code",
   "execution_count": 33,
   "metadata": {
    "ExecuteTime": {
     "end_time": "2023-11-14T09:22:44.580449742Z",
     "start_time": "2023-11-14T09:22:44.507134812Z"
    }
   },
   "outputs": [
    {
     "data": {
      "text/plain": "(5, 20)"
     },
     "execution_count": 33,
     "metadata": {},
     "output_type": "execute_result"
    }
   ],
   "source": [
    "train_ds.input_dim, train_ds.context_length"
   ]
  },
  {
   "cell_type": "code",
   "execution_count": 34,
   "metadata": {
    "ExecuteTime": {
     "end_time": "2023-11-14T09:23:02.599685247Z",
     "start_time": "2023-11-14T09:23:02.522102693Z"
    }
   },
   "outputs": [
    {
     "data": {
      "text/plain": "(1, 20)"
     },
     "execution_count": 34,
     "metadata": {},
     "output_type": "execute_result"
    }
   ],
   "source": [
    "train_ds.target_dim, train_ds.target_length"
   ]
  },
  {
   "cell_type": "code",
   "execution_count": 35,
   "metadata": {
    "ExecuteTime": {
     "end_time": "2023-11-14T09:23:11.278373802Z",
     "start_time": "2023-11-14T09:23:11.080217749Z"
    }
   },
   "outputs": [
    {
     "name": "stdout",
     "output_type": "stream",
     "text": [
      "Sample: 100%|██████████| 50/50 [00:00<00:00, 359.42it/s]\n"
     ]
    },
    {
     "data": {
      "text/plain": "    MultiCSVTimeSeriesDataset_index                              key  index  \\\n0                                 0               Richland-Columbia2      0   \n1                                 1             Jackson-Kansas_City1      1   \n2                                 2                 Maricopa-Phoenix      2   \n3                                 3                 Miami-Dade-Miami      3   \n4                                 4     San_Francisco-San_Francisco1      4   \n5                                 5          San_Diego-National_City      5   \n6                                 6                   Fulton-Atlanta      6   \n7                                 7                 Clark-Las_Vegas2      7   \n8                                 8                Onondaga-Syracuse      8   \n9                                 9  District_of_Columbia-Washington      9   \n10                               10             Saint_Louis-St_Louis     10   \n11                               11             Worcester-Worcester1     11   \n12                               12                     King-Seattle     12   \n13                               13              Orleans-New_Orleans     13   \n14                               14              Campbell-Cincinnati     14   \n15                               15        Philadelphia-Philadelphia     15   \n16                               16                Monroe-Rochester1     16   \n17                               17                    Douglas-Omaha     17   \n18                               18            Santa_Clara-San_Jose3     18   \n19                               19              Milwaukee-Milwaukee     19   \n20                               20                     Ventura-None     20   \n21                               21                  Alameda-Oakland     21   \n22                               22                    Wayne-Detroit     22   \n23                               23                    Denver-Denver     23   \n24                               24               Cuyahoga-Cleveland     24   \n25                               25                Honolulu-Honolulu     25   \n26                               26              Marion-Indianapolis     26   \n27                               27                   Albany-Albany2     27   \n28                               28                    Dallas-Dallas     28   \n29                               29                     Erie-Buffalo     29   \n30                               30               Hillsborough-Tampa     30   \n31                               31                 Champaign-Urbana     31   \n32                               32                     Cook-Chicago     32   \n33                               33            Sacramento-Sacramento     33   \n34                               34                     Brazos-Bryan     34   \n35                               35             Allegheny-Pittsburgh     35   \n36                               36              Multnomah-Portland2     36   \n37                               37               Lancaster-Lincoln1     37   \n38                               38                  El_Paso-El_Paso     38   \n39                               39              Alachua-Gainesville     39   \n40                               40                    Travis-Austin     40   \n41                               41         Los_Angeles-Los_Angeles1     41   \n42                               42                   Suffolk-Boston     42   \n43                               43               Franklin-Columbus2     43   \n44                               44                  Boulder-Boulder     44   \n45                               45             Hennepin-Minneapolis     45   \n46                               46                   Harris-Houston     46   \n47                               47                New_York-New_York     47   \n48                               48               Bexar-San_Antonio1     48   \n49                               49                       Utah-Provo     49   \n\n    num_timesteps  \n0           17520  \n1           17520  \n2           17520  \n3           17520  \n4           17520  \n5           17520  \n6           17520  \n7           17520  \n8           17520  \n9           17520  \n10          17520  \n11          17520  \n12          17520  \n13          17520  \n14          17520  \n15          17520  \n16          17520  \n17          17520  \n18          17520  \n19          17520  \n20          17520  \n21          17520  \n22          17520  \n23          17520  \n24          17520  \n25          17520  \n26          17520  \n27          17520  \n28          17520  \n29          17520  \n30          17520  \n31          17520  \n32          17520  \n33          17520  \n34          17520  \n35          17520  \n36          17520  \n37          17520  \n38          17520  \n39          17520  \n40          17520  \n41          17520  \n42          17520  \n43          17520  \n44          17520  \n45          17520  \n46          17520  \n47          17520  \n48          17520  \n49          17520  ",
      "text/html": "<div>\n<style scoped>\n    .dataframe tbody tr th:only-of-type {\n        vertical-align: middle;\n    }\n\n    .dataframe tbody tr th {\n        vertical-align: top;\n    }\n\n    .dataframe thead th {\n        text-align: right;\n    }\n</style>\n<table border=\"1\" class=\"dataframe\">\n  <thead>\n    <tr style=\"text-align: right;\">\n      <th></th>\n      <th>MultiCSVTimeSeriesDataset_index</th>\n      <th>key</th>\n      <th>index</th>\n      <th>num_timesteps</th>\n    </tr>\n  </thead>\n  <tbody>\n    <tr>\n      <th>0</th>\n      <td>0</td>\n      <td>Richland-Columbia2</td>\n      <td>0</td>\n      <td>17520</td>\n    </tr>\n    <tr>\n      <th>1</th>\n      <td>1</td>\n      <td>Jackson-Kansas_City1</td>\n      <td>1</td>\n      <td>17520</td>\n    </tr>\n    <tr>\n      <th>2</th>\n      <td>2</td>\n      <td>Maricopa-Phoenix</td>\n      <td>2</td>\n      <td>17520</td>\n    </tr>\n    <tr>\n      <th>3</th>\n      <td>3</td>\n      <td>Miami-Dade-Miami</td>\n      <td>3</td>\n      <td>17520</td>\n    </tr>\n    <tr>\n      <th>4</th>\n      <td>4</td>\n      <td>San_Francisco-San_Francisco1</td>\n      <td>4</td>\n      <td>17520</td>\n    </tr>\n    <tr>\n      <th>5</th>\n      <td>5</td>\n      <td>San_Diego-National_City</td>\n      <td>5</td>\n      <td>17520</td>\n    </tr>\n    <tr>\n      <th>6</th>\n      <td>6</td>\n      <td>Fulton-Atlanta</td>\n      <td>6</td>\n      <td>17520</td>\n    </tr>\n    <tr>\n      <th>7</th>\n      <td>7</td>\n      <td>Clark-Las_Vegas2</td>\n      <td>7</td>\n      <td>17520</td>\n    </tr>\n    <tr>\n      <th>8</th>\n      <td>8</td>\n      <td>Onondaga-Syracuse</td>\n      <td>8</td>\n      <td>17520</td>\n    </tr>\n    <tr>\n      <th>9</th>\n      <td>9</td>\n      <td>District_of_Columbia-Washington</td>\n      <td>9</td>\n      <td>17520</td>\n    </tr>\n    <tr>\n      <th>10</th>\n      <td>10</td>\n      <td>Saint_Louis-St_Louis</td>\n      <td>10</td>\n      <td>17520</td>\n    </tr>\n    <tr>\n      <th>11</th>\n      <td>11</td>\n      <td>Worcester-Worcester1</td>\n      <td>11</td>\n      <td>17520</td>\n    </tr>\n    <tr>\n      <th>12</th>\n      <td>12</td>\n      <td>King-Seattle</td>\n      <td>12</td>\n      <td>17520</td>\n    </tr>\n    <tr>\n      <th>13</th>\n      <td>13</td>\n      <td>Orleans-New_Orleans</td>\n      <td>13</td>\n      <td>17520</td>\n    </tr>\n    <tr>\n      <th>14</th>\n      <td>14</td>\n      <td>Campbell-Cincinnati</td>\n      <td>14</td>\n      <td>17520</td>\n    </tr>\n    <tr>\n      <th>15</th>\n      <td>15</td>\n      <td>Philadelphia-Philadelphia</td>\n      <td>15</td>\n      <td>17520</td>\n    </tr>\n    <tr>\n      <th>16</th>\n      <td>16</td>\n      <td>Monroe-Rochester1</td>\n      <td>16</td>\n      <td>17520</td>\n    </tr>\n    <tr>\n      <th>17</th>\n      <td>17</td>\n      <td>Douglas-Omaha</td>\n      <td>17</td>\n      <td>17520</td>\n    </tr>\n    <tr>\n      <th>18</th>\n      <td>18</td>\n      <td>Santa_Clara-San_Jose3</td>\n      <td>18</td>\n      <td>17520</td>\n    </tr>\n    <tr>\n      <th>19</th>\n      <td>19</td>\n      <td>Milwaukee-Milwaukee</td>\n      <td>19</td>\n      <td>17520</td>\n    </tr>\n    <tr>\n      <th>20</th>\n      <td>20</td>\n      <td>Ventura-None</td>\n      <td>20</td>\n      <td>17520</td>\n    </tr>\n    <tr>\n      <th>21</th>\n      <td>21</td>\n      <td>Alameda-Oakland</td>\n      <td>21</td>\n      <td>17520</td>\n    </tr>\n    <tr>\n      <th>22</th>\n      <td>22</td>\n      <td>Wayne-Detroit</td>\n      <td>22</td>\n      <td>17520</td>\n    </tr>\n    <tr>\n      <th>23</th>\n      <td>23</td>\n      <td>Denver-Denver</td>\n      <td>23</td>\n      <td>17520</td>\n    </tr>\n    <tr>\n      <th>24</th>\n      <td>24</td>\n      <td>Cuyahoga-Cleveland</td>\n      <td>24</td>\n      <td>17520</td>\n    </tr>\n    <tr>\n      <th>25</th>\n      <td>25</td>\n      <td>Honolulu-Honolulu</td>\n      <td>25</td>\n      <td>17520</td>\n    </tr>\n    <tr>\n      <th>26</th>\n      <td>26</td>\n      <td>Marion-Indianapolis</td>\n      <td>26</td>\n      <td>17520</td>\n    </tr>\n    <tr>\n      <th>27</th>\n      <td>27</td>\n      <td>Albany-Albany2</td>\n      <td>27</td>\n      <td>17520</td>\n    </tr>\n    <tr>\n      <th>28</th>\n      <td>28</td>\n      <td>Dallas-Dallas</td>\n      <td>28</td>\n      <td>17520</td>\n    </tr>\n    <tr>\n      <th>29</th>\n      <td>29</td>\n      <td>Erie-Buffalo</td>\n      <td>29</td>\n      <td>17520</td>\n    </tr>\n    <tr>\n      <th>30</th>\n      <td>30</td>\n      <td>Hillsborough-Tampa</td>\n      <td>30</td>\n      <td>17520</td>\n    </tr>\n    <tr>\n      <th>31</th>\n      <td>31</td>\n      <td>Champaign-Urbana</td>\n      <td>31</td>\n      <td>17520</td>\n    </tr>\n    <tr>\n      <th>32</th>\n      <td>32</td>\n      <td>Cook-Chicago</td>\n      <td>32</td>\n      <td>17520</td>\n    </tr>\n    <tr>\n      <th>33</th>\n      <td>33</td>\n      <td>Sacramento-Sacramento</td>\n      <td>33</td>\n      <td>17520</td>\n    </tr>\n    <tr>\n      <th>34</th>\n      <td>34</td>\n      <td>Brazos-Bryan</td>\n      <td>34</td>\n      <td>17520</td>\n    </tr>\n    <tr>\n      <th>35</th>\n      <td>35</td>\n      <td>Allegheny-Pittsburgh</td>\n      <td>35</td>\n      <td>17520</td>\n    </tr>\n    <tr>\n      <th>36</th>\n      <td>36</td>\n      <td>Multnomah-Portland2</td>\n      <td>36</td>\n      <td>17520</td>\n    </tr>\n    <tr>\n      <th>37</th>\n      <td>37</td>\n      <td>Lancaster-Lincoln1</td>\n      <td>37</td>\n      <td>17520</td>\n    </tr>\n    <tr>\n      <th>38</th>\n      <td>38</td>\n      <td>El_Paso-El_Paso</td>\n      <td>38</td>\n      <td>17520</td>\n    </tr>\n    <tr>\n      <th>39</th>\n      <td>39</td>\n      <td>Alachua-Gainesville</td>\n      <td>39</td>\n      <td>17520</td>\n    </tr>\n    <tr>\n      <th>40</th>\n      <td>40</td>\n      <td>Travis-Austin</td>\n      <td>40</td>\n      <td>17520</td>\n    </tr>\n    <tr>\n      <th>41</th>\n      <td>41</td>\n      <td>Los_Angeles-Los_Angeles1</td>\n      <td>41</td>\n      <td>17520</td>\n    </tr>\n    <tr>\n      <th>42</th>\n      <td>42</td>\n      <td>Suffolk-Boston</td>\n      <td>42</td>\n      <td>17520</td>\n    </tr>\n    <tr>\n      <th>43</th>\n      <td>43</td>\n      <td>Franklin-Columbus2</td>\n      <td>43</td>\n      <td>17520</td>\n    </tr>\n    <tr>\n      <th>44</th>\n      <td>44</td>\n      <td>Boulder-Boulder</td>\n      <td>44</td>\n      <td>17520</td>\n    </tr>\n    <tr>\n      <th>45</th>\n      <td>45</td>\n      <td>Hennepin-Minneapolis</td>\n      <td>45</td>\n      <td>17520</td>\n    </tr>\n    <tr>\n      <th>46</th>\n      <td>46</td>\n      <td>Harris-Houston</td>\n      <td>46</td>\n      <td>17520</td>\n    </tr>\n    <tr>\n      <th>47</th>\n      <td>47</td>\n      <td>New_York-New_York</td>\n      <td>47</td>\n      <td>17520</td>\n    </tr>\n    <tr>\n      <th>48</th>\n      <td>48</td>\n      <td>Bexar-San_Antonio1</td>\n      <td>48</td>\n      <td>17520</td>\n    </tr>\n    <tr>\n      <th>49</th>\n      <td>49</td>\n      <td>Utah-Provo</td>\n      <td>49</td>\n      <td>17520</td>\n    </tr>\n  </tbody>\n</table>\n</div>"
     },
     "execution_count": 35,
     "metadata": {},
     "output_type": "execute_result"
    }
   ],
   "source": [
    "# the original timeseries\n",
    "train_ds.dataset.dataset.dataset.dataset.get_meta_data_summary()"
   ]
  }
 ],
 "metadata": {
  "kernelspec": {
   "display_name": "xlstmdev1",
   "language": "python",
   "name": "python3"
  },
  "language_info": {
   "codemirror_mode": {
    "name": "ipython",
    "version": 3
   },
   "file_extension": ".py",
   "mimetype": "text/x-python",
   "name": "python",
   "nbconvert_exporter": "python",
   "pygments_lexer": "ipython3",
   "version": "3.11.6"
  }
 },
 "nbformat": 4,
 "nbformat_minor": 2
}
