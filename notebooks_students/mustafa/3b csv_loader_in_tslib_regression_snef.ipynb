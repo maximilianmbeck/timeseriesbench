{
 "cells": [
  {
   "cell_type": "code",
   "execution_count": 1,
   "metadata": {
    "ExecuteTime": {
     "end_time": "2023-11-14T09:03:05.055305764Z",
     "start_time": "2023-11-14T09:03:04.944815185Z"
    }
   },
   "outputs": [],
   "source": [
    "%load_ext autoreload\n",
    "%autoreload 2\n",
    "from dataclasses import dataclass\n",
    "from pathlib import Path\n",
    "import pandas as pd\n",
    "import sys\n",
    "sys.path.append('../../')\n",
    "from omegaconf import OmegaConf\n",
    "from dacite import from_dict\n",
    "\n",
    "from tsbench.tslib.loading.csv_loader import CSVTimeSeriesDataset,MultiCSVTimeSeriesDataset\n",
    "from tsbench.tslib.traindataset_generator import TimeSeriesTrainDatasetGeneratorConfig, TimeSeriesTrainDatasetGenerator"
   ]
  },
  {
   "cell_type": "markdown",
   "metadata": {},
   "source": [
    "### with normalized Dataset"
   ]
  },
  {
   "cell_type": "markdown",
   "metadata": {},
   "source": [
    "Then we need to create a configuration for tslib. For this we need to mirror the config defined in `tslib/traindataset_generator.py`:"
   ]
  },
  {
   "cell_type": "code",
   "execution_count": 3,
   "metadata": {
    "ExecuteTime": {
     "end_time": "2023-11-14T09:04:59.425439838Z",
     "start_time": "2023-11-14T09:04:59.307701596Z"
    }
   },
   "outputs": [],
   "source": [
    "cfg = \"\"\" \n",
    "pipeline:\n",
    "  dataset:\n",
    "    name: multicsvloader\n",
    "    kwargs:\n",
    "      data_folder: '../../datafiles/stocknewseventssentiment-snes-10'\n",
    "      meta_columns: []\n",
    "  windowing:\n",
    "    window_size: 20 # each time series for the model will have length 10\n",
    "    stride: 5 # each time series will be shifted by 5\n",
    "  # TODO add normalization of the features\n",
    "  # store normalizer values in a file and load them in the normalizer\n",
    "  normalizer:\n",
    "    normalizer_file: ../../notebooks_students/mustafa/normalizer_snef.json\n",
    "  feature_selector:\n",
    "    select_features:\n",
    "        - 'Open'\n",
    "        - 'High'\n",
    "        - 'Low'\n",
    "        - 'Close'\n",
    "        - 'Adj Close'\n",
    "        - 'Volume'\n",
    "        - 'News - All News Volume'\n",
    "        - 'News - Volume'\n",
    "        - 'News - Positive Sentiment'\n",
    "        - 'News - Negative Sentiment'\n",
    "        - 'News - New Products'\n",
    "        - 'News - Layoffs'\n",
    "        - 'News - Analyst Comments'\n",
    "        - 'News - Stocks'\n",
    "        - 'News - Dividends'\n",
    "        - 'News - Corporate Earnings'\n",
    "        - 'News - Mergers & Acquisitions'\n",
    "        - 'News - Store Openings'\n",
    "        - 'News - Product Recalls'\n",
    "        - 'News - Adverse Events'\n",
    "        - 'News - Personnel Changes'\n",
    "        - 'News - Stock Rumors'\n",
    "    drop_features: []\n",
    "  target_generator:\n",
    "    name: many_to_many_regression\n",
    "    kwargs:\n",
    "      input_features:\n",
    "        - 'Close'\n",
    "        - 'Adj Close'\n",
    "        - 'Volume'\n",
    "        - 'News - All News Volume'\n",
    "        - 'News - Volume'\n",
    "        - 'News - Positive Sentiment'\n",
    "        - 'News - Negative Sentiment'\n",
    "        - 'News - New Products'\n",
    "        - 'News - Layoffs'\n",
    "        - 'News - Analyst Comments'\n",
    "        - 'News - Stocks'\n",
    "        - 'News - Dividends'\n",
    "        - 'News - Corporate Earnings'\n",
    "        - 'News - Mergers & Acquisitions'\n",
    "        - 'News - Store Openings'\n",
    "        - 'News - Product Recalls'\n",
    "        - 'News - Adverse Events'\n",
    "        - 'News - Personnel Changes'\n",
    "        - 'News - Stock Rumors'\n",
    "      target_features:\n",
    "        - 'Open'\n",
    "        - 'High'\n",
    "        - 'Low'\n",
    "      target_shift: 0\n",
    "      added_meta_features: []\n",
    "split: \n",
    "  name: random_split\n",
    "  kwargs:\n",
    "    lengths: [0.8, 0.2] # train, val\n",
    "\"\"\"\n",
    "cfg = OmegaConf.create(cfg)\n",
    "\n",
    "cfg = from_dict(data_class=TimeSeriesTrainDatasetGeneratorConfig, data=OmegaConf.to_container(cfg))"
   ]
  },
  {
   "cell_type": "code",
   "execution_count": 4,
   "metadata": {
    "ExecuteTime": {
     "end_time": "2023-11-14T09:05:03.308608988Z",
     "start_time": "2023-11-14T09:05:03.201394539Z"
    }
   },
   "outputs": [
    {
     "data": {
      "text/plain": [
       "TimeSeriesTrainDatasetGeneratorConfig(pipeline=ComposedTimeSeriesDatasetConfig(dataset=NameAndKwargs(name='multicsvloader', kwargs={'data_folder': '../../datafiles/stocknewseventssentiment-snes-10', 'meta_columns': []}), windowing=TimeSeriesWindowDatasetConfig(window_size=20, stride=5, initial_offset=0, end_offset=0, future_steps=0, past_steps=0), partition_filter=NameAndKwargs(name='no_filter', kwargs={}), feature_selector=FeatureSelectorConfig(select_features=['Open', 'High', 'Low', 'Close', 'Adj Close', 'Volume', 'News - All News Volume', 'News - Volume', 'News - Positive Sentiment', 'News - Negative Sentiment', 'News - New Products', 'News - Layoffs', 'News - Analyst Comments', 'News - Stocks', 'News - Dividends', 'News - Corporate Earnings', 'News - Mergers & Acquisitions', 'News - Store Openings', 'News - Product Recalls', 'News - Adverse Events', 'News - Personnel Changes', 'News - Stock Rumors'], drop_features=[]), normalizer=NormalizerConfig(normalizer_values={}, normalize_features=set(), drop_zero_variance_features=True, eps=1e-08, normalizer_file='../../notebooks_students/mustafa/normalizer_snef.json'), transforms=[], target_generator=NameAndKwargs(name='many_to_many_regression', kwargs={'input_features': ['Close', 'Adj Close', 'Volume', 'News - All News Volume', 'News - Volume', 'News - Positive Sentiment', 'News - Negative Sentiment', 'News - New Products', 'News - Layoffs', 'News - Analyst Comments', 'News - Stocks', 'News - Dividends', 'News - Corporate Earnings', 'News - Mergers & Acquisitions', 'News - Store Openings', 'News - Product Recalls', 'News - Adverse Events', 'News - Personnel Changes', 'News - Stock Rumors'], 'target_features': ['Open', 'High', 'Low'], 'target_shift': 0, 'added_meta_features': []}), cache_processed_dataset=False), split=NameAndKwargs(name='random_split', kwargs={'lengths': [0.8, 0.2]}), metric_train=[], metric_val=[])"
      ]
     },
     "execution_count": 4,
     "metadata": {},
     "output_type": "execute_result"
    }
   ],
   "source": [
    "cfg"
   ]
  },
  {
   "cell_type": "code",
   "execution_count": 5,
   "metadata": {
    "ExecuteTime": {
     "end_time": "2023-11-14T09:22:13.847209187Z",
     "start_time": "2023-11-14T09:22:10.630003100Z"
    }
   },
   "outputs": [
    {
     "name": "stdout",
     "output_type": "stream",
     "text": [
      "Sample: 100%|█████████████████████████████████████| 1/1 [00:00<00:00, 14.08it/s]\n",
      "Sample: 100%|█████████████████████████████████████| 1/1 [00:00<00:00, 23.82it/s]\n",
      "Generating window index: 100%|████████████████████| 1/1 [00:00<00:00,  2.45it/s]\n",
      "Total number of dropped timesteps due to windowing: 1\n"
     ]
    }
   ],
   "source": [
    "ds_gen = TimeSeriesTrainDatasetGenerator(cfg)\n",
    "ds_gen.generate_dataset()"
   ]
  },
  {
   "cell_type": "code",
   "execution_count": 6,
   "metadata": {
    "ExecuteTime": {
     "end_time": "2023-11-14T09:22:13.894060437Z",
     "start_time": "2023-11-14T09:22:13.852160634Z"
    }
   },
   "outputs": [],
   "source": [
    "train_ds = ds_gen.train_split"
   ]
  },
  {
   "cell_type": "code",
   "execution_count": 7,
   "metadata": {
    "ExecuteTime": {
     "end_time": "2023-11-14T09:22:19.181503400Z",
     "start_time": "2023-11-14T09:22:19.117100584Z"
    }
   },
   "outputs": [
    {
     "data": {
      "text/plain": [
       "<tsbench.tslib.postprocessing.dataset_subset.TimeSeriesTrainDatasetSubset at 0x101a1cf10>"
      ]
     },
     "execution_count": 7,
     "metadata": {},
     "output_type": "execute_result"
    }
   ],
   "source": [
    "train_ds"
   ]
  },
  {
   "cell_type": "code",
   "execution_count": 8,
   "metadata": {
    "ExecuteTime": {
     "end_time": "2023-11-14T09:22:28.555271591Z",
     "start_time": "2023-11-14T09:22:28.466834966Z"
    }
   },
   "outputs": [
    {
     "data": {
      "text/html": [
       "<div>\n",
       "<style scoped>\n",
       "    .dataframe tbody tr th:only-of-type {\n",
       "        vertical-align: middle;\n",
       "    }\n",
       "\n",
       "    .dataframe tbody tr th {\n",
       "        vertical-align: top;\n",
       "    }\n",
       "\n",
       "    .dataframe thead th {\n",
       "        text-align: right;\n",
       "    }\n",
       "</style>\n",
       "<table border=\"1\" class=\"dataframe\">\n",
       "  <thead>\n",
       "    <tr style=\"text-align: right;\">\n",
       "      <th></th>\n",
       "      <th>ComposedTimeSeriesDataset_index</th>\n",
       "      <th>MultiCSVTimeSeriesDataset_index</th>\n",
       "      <th>key</th>\n",
       "      <th>index</th>\n",
       "      <th>num_timesteps</th>\n",
       "    </tr>\n",
       "  </thead>\n",
       "  <tbody>\n",
       "    <tr>\n",
       "      <th>0</th>\n",
       "      <td>13648</td>\n",
       "      <td>0</td>\n",
       "      <td>data_wi[|68240:68240|68240:68260|68260:68260|]</td>\n",
       "      <td>13648</td>\n",
       "      <td>20</td>\n",
       "    </tr>\n",
       "    <tr>\n",
       "      <th>1</th>\n",
       "      <td>9808</td>\n",
       "      <td>0</td>\n",
       "      <td>data_wi[|49040:49040|49040:49060|49060:49060|]</td>\n",
       "      <td>9808</td>\n",
       "      <td>20</td>\n",
       "    </tr>\n",
       "    <tr>\n",
       "      <th>2</th>\n",
       "      <td>7036</td>\n",
       "      <td>0</td>\n",
       "      <td>data_wi[|35180:35180|35180:35200|35200:35200|]</td>\n",
       "      <td>7036</td>\n",
       "      <td>20</td>\n",
       "    </tr>\n",
       "    <tr>\n",
       "      <th>3</th>\n",
       "      <td>4780</td>\n",
       "      <td>0</td>\n",
       "      <td>data_wi[|23900:23900|23900:23920|23920:23920|]</td>\n",
       "      <td>4780</td>\n",
       "      <td>20</td>\n",
       "    </tr>\n",
       "    <tr>\n",
       "      <th>4</th>\n",
       "      <td>10212</td>\n",
       "      <td>0</td>\n",
       "      <td>data_wi[|51060:51060|51060:51080|51080:51080|]</td>\n",
       "      <td>10212</td>\n",
       "      <td>20</td>\n",
       "    </tr>\n",
       "    <tr>\n",
       "      <th>...</th>\n",
       "      <td>...</td>\n",
       "      <td>...</td>\n",
       "      <td>...</td>\n",
       "      <td>...</td>\n",
       "      <td>...</td>\n",
       "    </tr>\n",
       "    <tr>\n",
       "      <th>34843</th>\n",
       "      <td>37673</td>\n",
       "      <td>0</td>\n",
       "      <td>data_wi[|188365:188365|188365:188385|188385:18...</td>\n",
       "      <td>37673</td>\n",
       "      <td>20</td>\n",
       "    </tr>\n",
       "    <tr>\n",
       "      <th>34844</th>\n",
       "      <td>39013</td>\n",
       "      <td>0</td>\n",
       "      <td>data_wi[|195065:195065|195065:195085|195085:19...</td>\n",
       "      <td>39013</td>\n",
       "      <td>20</td>\n",
       "    </tr>\n",
       "    <tr>\n",
       "      <th>34845</th>\n",
       "      <td>28893</td>\n",
       "      <td>0</td>\n",
       "      <td>data_wi[|144465:144465|144465:144485|144485:14...</td>\n",
       "      <td>28893</td>\n",
       "      <td>20</td>\n",
       "    </tr>\n",
       "    <tr>\n",
       "      <th>34846</th>\n",
       "      <td>2748</td>\n",
       "      <td>0</td>\n",
       "      <td>data_wi[|13740:13740|13740:13760|13760:13760|]</td>\n",
       "      <td>2748</td>\n",
       "      <td>20</td>\n",
       "    </tr>\n",
       "    <tr>\n",
       "      <th>34847</th>\n",
       "      <td>36592</td>\n",
       "      <td>0</td>\n",
       "      <td>data_wi[|182960:182960|182960:182980|182980:18...</td>\n",
       "      <td>36592</td>\n",
       "      <td>20</td>\n",
       "    </tr>\n",
       "  </tbody>\n",
       "</table>\n",
       "<p>34848 rows × 5 columns</p>\n",
       "</div>"
      ],
      "text/plain": [
       "       ComposedTimeSeriesDataset_index  MultiCSVTimeSeriesDataset_index  \\\n",
       "0                                13648                                0   \n",
       "1                                 9808                                0   \n",
       "2                                 7036                                0   \n",
       "3                                 4780                                0   \n",
       "4                                10212                                0   \n",
       "...                                ...                              ...   \n",
       "34843                            37673                                0   \n",
       "34844                            39013                                0   \n",
       "34845                            28893                                0   \n",
       "34846                             2748                                0   \n",
       "34847                            36592                                0   \n",
       "\n",
       "                                                     key  index  num_timesteps  \n",
       "0         data_wi[|68240:68240|68240:68260|68260:68260|]  13648             20  \n",
       "1         data_wi[|49040:49040|49040:49060|49060:49060|]   9808             20  \n",
       "2         data_wi[|35180:35180|35180:35200|35200:35200|]   7036             20  \n",
       "3         data_wi[|23900:23900|23900:23920|23920:23920|]   4780             20  \n",
       "4         data_wi[|51060:51060|51060:51080|51080:51080|]  10212             20  \n",
       "...                                                  ...    ...            ...  \n",
       "34843  data_wi[|188365:188365|188365:188385|188385:18...  37673             20  \n",
       "34844  data_wi[|195065:195065|195065:195085|195085:19...  39013             20  \n",
       "34845  data_wi[|144465:144465|144465:144485|144485:14...  28893             20  \n",
       "34846     data_wi[|13740:13740|13740:13760|13760:13760|]   2748             20  \n",
       "34847  data_wi[|182960:182960|182960:182980|182980:18...  36592             20  \n",
       "\n",
       "[34848 rows x 5 columns]"
      ]
     },
     "execution_count": 8,
     "metadata": {},
     "output_type": "execute_result"
    }
   ],
   "source": [
    "train_ds.get_meta_data_summary()"
   ]
  },
  {
   "cell_type": "code",
   "execution_count": 9,
   "metadata": {
    "ExecuteTime": {
     "end_time": "2023-11-14T09:22:32.991162019Z",
     "start_time": "2023-11-14T09:22:32.899361525Z"
    }
   },
   "outputs": [
    {
     "data": {
      "text/plain": [
       "{'x': tensor([[-0.2371, -0.2445, -0.1889,  1.4560,  0.0584, -0.1180, -0.1115, -0.1446,\n",
       "          -0.0290,  0.2745,  0.2365, -0.2022,  3.2323, -0.0993, -0.0840, -0.0362,\n",
       "          -0.1795, -0.1169, -0.0499],\n",
       "         [-0.2402, -0.2474, -0.2099,  0.1594, -0.2133, -0.1534, -0.2363, -0.1446,\n",
       "          -0.0290,  0.0495,  0.0217, -0.2022,  0.2206, -0.1882, -0.0840, -0.0362,\n",
       "           0.0972, -0.1169, -0.0499],\n",
       "         [-0.2427, -0.2499, -0.2268, -1.1109, -0.1930, -0.1534, -0.2363, -0.1446,\n",
       "          -0.0290, -0.0469, -0.0704, -0.2022, -0.0357, -0.1882, -0.0840, -0.0362,\n",
       "           0.2633, -0.1169, -0.0499],\n",
       "         [-0.2404, -0.2476, -0.2651,  0.3611,  0.0503, -0.1180, -0.1115, -0.1446,\n",
       "          -0.0290,  0.4673,  0.4206,  0.2226, -0.1639, -0.0993, -0.0840, -0.0362,\n",
       "           0.2079, -0.1169, -0.0499],\n",
       "         [-0.2396, -0.2469, -0.2198,  0.6258, -0.1403, -0.1534,  1.1982, -0.1446,\n",
       "          -0.0290, -0.0147,  0.0217,  0.2226, -0.2280, -0.0104, -0.0840, -0.0362,\n",
       "          -0.2348, -0.1169, -0.0499],\n",
       "         [-0.2442, -0.2483, -0.2461,  0.6196, -0.1890, -0.1180, -0.0492, -0.1446,\n",
       "          -0.0290,  0.0174, -0.0090, -0.2022,  0.0283, -0.0104, -0.0840, -0.0362,\n",
       "          -0.1795, -0.1169, -0.0499],\n",
       "         [-0.2432, -0.2473, -0.2662, -0.4788, -0.1890, -0.1534, -0.2363, -0.1446,\n",
       "          -0.0290,  0.2745,  0.2365, -0.2022, -0.2280,  0.1675, -0.0840, -0.0362,\n",
       "          -0.1795, -0.1169, -0.0499],\n",
       "         [-0.2375, -0.2418, -0.1478, -1.0735,  0.2084, -0.1534, -0.1115, -0.1446,\n",
       "          -0.0290,  0.2102,  0.1751, -0.2022, -0.2280,  0.1675,  0.9465, -0.0362,\n",
       "          -0.1795, -0.1169, -0.0499],\n",
       "         [-0.2378, -0.2421, -0.2531,  0.0276, -0.1565, -0.1534, -0.1739, -0.1446,\n",
       "          -0.0290,  0.0174, -0.0090, -0.2022, -0.2280, -0.1882, -0.0840, -0.0362,\n",
       "          -0.1241, -0.1169, -0.0499],\n",
       "         [-0.2399, -0.2441, -0.1898,  0.4790, -0.0349, -0.1534,  0.4498, -0.1446,\n",
       "          -0.0290,  0.0817,  0.0523, -0.2022, -0.2280,  0.0785, -0.0840, -0.0362,\n",
       "           0.4293, -0.1169, -0.0499],\n",
       "         [-0.2404, -0.2447, -0.2241,  0.4053, -0.1362, -0.1180, -0.2363, -0.1446,\n",
       "          -0.0290,  0.3066,  0.2671, -0.2022,  0.0924, -0.0993, -0.0840, -0.0362,\n",
       "           0.1526, -0.1169, -0.0499],\n",
       "         [-0.2394, -0.2437, -0.2144, -0.3416, -0.0470, -0.0827, -0.2363, -0.1446,\n",
       "          -0.0290,  0.6601,  0.6047, -0.2022,  0.0924,  0.0785, -0.0840, -0.0362,\n",
       "           0.3739, -0.1169, -0.0499],\n",
       "         [-0.2437, -0.2479, -0.2011, -1.2015,  0.1111, -0.1180, -0.1739, -0.1446,\n",
       "          -0.0290,  0.6601,  0.6047, -0.2022, -0.0357,  0.1675, -0.0840, -0.0362,\n",
       "          -0.1241, -0.1169, -0.0499],\n",
       "         [-0.2459, -0.2499, -0.1066,  0.0217, -0.0754, -0.0827, -0.1115, -0.1446,\n",
       "          -0.0290,  0.3066,  0.2671, -0.2022, -0.0998, -0.0993, -0.0840, -0.0362,\n",
       "          -0.1795, -0.1169, -0.0499],\n",
       "         [-0.2451, -0.2492, -0.2340,  0.5696,  0.1314, -0.1180,  0.0132, -0.1446,\n",
       "          -0.0290, -0.1433, -0.1625, -0.2022, -0.1639, -0.0993, -0.0840, -0.0362,\n",
       "          -0.0134, -0.1169, -0.0499],\n",
       "         [-0.2468, -0.2509, -0.2212,  0.7398, -0.0673, -0.0474, -0.1739, -0.1446,\n",
       "          -0.0290,  0.1781,  0.1444, -0.2022,  0.0283, -0.0993, -0.0840, -0.0362,\n",
       "          -0.1795, -0.1169, -0.0499],\n",
       "         [-0.2474, -0.2514, -0.2928, -0.0632, -0.1565, -0.1180, -0.0492, -0.1446,\n",
       "          -0.0290,  0.1781,  0.1444, -0.2022, -0.0357, -0.0104, -0.0840, -0.0362,\n",
       "          -0.2348, -0.1169, -0.0499],\n",
       "         [-0.2470, -0.2510, -0.2720, -1.4894, -0.2376, -0.1534, -0.0492, -0.1446,\n",
       "          -0.0290, -0.1433, -0.1625, -0.2022, -0.2280, -0.0104, -0.0840, -0.0362,\n",
       "          -0.1241, -0.1169, -0.0499],\n",
       "         [-0.2474, -0.2514, -0.1680,  0.0972, -0.0592, -0.1534, -0.2363, -0.1446,\n",
       "          -0.0290, -0.0147, -0.0397, -0.2022, -0.2280,  0.1675, -0.0840, -0.0362,\n",
       "          -0.0688, -0.1169, -0.0499],\n",
       "         [-0.2428, -0.2470, -0.2208,  1.0902, -0.1281, -0.1534, -0.1739, -0.1446,\n",
       "          -0.0290, -0.1111, -0.1318, -0.2022, -0.2280, -0.1882, -0.0840, -0.0362,\n",
       "          -0.2348, -0.1169, -0.0499]]),\n",
       " 'y': tensor([[-0.2410, -0.2412, -0.2379],\n",
       "         [-0.2389, -0.2410, -0.2361],\n",
       "         [-0.2411, -0.2443, -0.2406],\n",
       "         [-0.2417, -0.2436, -0.2389],\n",
       "         [-0.2393, -0.2418, -0.2358],\n",
       "         [-0.2440, -0.2459, -0.2406],\n",
       "         [-0.2434, -0.2465, -0.2404],\n",
       "         [-0.2423, -0.2400, -0.2384],\n",
       "         [-0.2377, -0.2405, -0.2365],\n",
       "         [-0.2378, -0.2417, -0.2371],\n",
       "         [-0.2400, -0.2405, -0.2367],\n",
       "         [-0.2426, -0.2433, -0.2400],\n",
       "         [-0.2400, -0.2429, -0.2399],\n",
       "         [-0.2432, -0.2469, -0.2440],\n",
       "         [-0.2460, -0.2475, -0.2439],\n",
       "         [-0.2452, -0.2487, -0.2426],\n",
       "         [-0.2462, -0.2495, -0.2436],\n",
       "         [-0.2480, -0.2500, -0.2442],\n",
       "         [-0.2469, -0.2486, -0.2440],\n",
       "         [-0.2468, -0.2462, -0.2431]])}"
      ]
     },
     "execution_count": 9,
     "metadata": {},
     "output_type": "execute_result"
    }
   ],
   "source": [
    "train_ds[0]"
   ]
  },
  {
   "cell_type": "code",
   "execution_count": 10,
   "metadata": {
    "ExecuteTime": {
     "end_time": "2023-11-14T09:22:40.918012046Z",
     "start_time": "2023-11-14T09:22:40.858078836Z"
    }
   },
   "outputs": [
    {
     "data": {
      "text/plain": [
       "torch.Size([20, 19])"
      ]
     },
     "execution_count": 10,
     "metadata": {},
     "output_type": "execute_result"
    }
   ],
   "source": [
    "train_ds[0]['x'].shape"
   ]
  },
  {
   "cell_type": "code",
   "execution_count": 11,
   "metadata": {
    "ExecuteTime": {
     "end_time": "2023-11-14T09:22:41.956677502Z",
     "start_time": "2023-11-14T09:22:41.901573236Z"
    }
   },
   "outputs": [
    {
     "data": {
      "text/plain": [
       "(34848,\n",
       " 8711,\n",
       " tsbench.tslib.postprocessing.dataset_subset.TimeSeriesTrainDatasetSubset)"
      ]
     },
     "execution_count": 11,
     "metadata": {},
     "output_type": "execute_result"
    }
   ],
   "source": [
    "len(train_ds), len(ds_gen.validation_split), type(ds_gen.validation_split)"
   ]
  },
  {
   "cell_type": "code",
   "execution_count": 12,
   "metadata": {
    "ExecuteTime": {
     "end_time": "2023-11-14T09:22:44.580449742Z",
     "start_time": "2023-11-14T09:22:44.507134812Z"
    }
   },
   "outputs": [
    {
     "data": {
      "text/plain": [
       "(19, 20)"
      ]
     },
     "execution_count": 12,
     "metadata": {},
     "output_type": "execute_result"
    }
   ],
   "source": [
    "train_ds.input_dim, train_ds.context_length"
   ]
  },
  {
   "cell_type": "code",
   "execution_count": 13,
   "metadata": {
    "ExecuteTime": {
     "end_time": "2023-11-14T09:23:02.599685247Z",
     "start_time": "2023-11-14T09:23:02.522102693Z"
    }
   },
   "outputs": [
    {
     "data": {
      "text/plain": [
       "(3, 20)"
      ]
     },
     "execution_count": 13,
     "metadata": {},
     "output_type": "execute_result"
    }
   ],
   "source": [
    "train_ds.target_dim, train_ds.target_length"
   ]
  },
  {
   "cell_type": "code",
   "execution_count": 14,
   "metadata": {
    "ExecuteTime": {
     "end_time": "2023-11-14T09:23:11.278373802Z",
     "start_time": "2023-11-14T09:23:11.080217749Z"
    }
   },
   "outputs": [
    {
     "name": "stdout",
     "output_type": "stream",
     "text": [
      "Sample: 100%|█████████████████████████████████████| 1/1 [00:00<00:00, 17.29it/s]\n"
     ]
    },
    {
     "data": {
      "text/html": [
       "<div>\n",
       "<style scoped>\n",
       "    .dataframe tbody tr th:only-of-type {\n",
       "        vertical-align: middle;\n",
       "    }\n",
       "\n",
       "    .dataframe tbody tr th {\n",
       "        vertical-align: top;\n",
       "    }\n",
       "\n",
       "    .dataframe thead th {\n",
       "        text-align: right;\n",
       "    }\n",
       "</style>\n",
       "<table border=\"1\" class=\"dataframe\">\n",
       "  <thead>\n",
       "    <tr style=\"text-align: right;\">\n",
       "      <th></th>\n",
       "      <th>MultiCSVTimeSeriesDataset_index</th>\n",
       "      <th>key</th>\n",
       "      <th>index</th>\n",
       "      <th>num_timesteps</th>\n",
       "    </tr>\n",
       "  </thead>\n",
       "  <tbody>\n",
       "    <tr>\n",
       "      <th>0</th>\n",
       "      <td>0</td>\n",
       "      <td>data</td>\n",
       "      <td>0</td>\n",
       "      <td>217811</td>\n",
       "    </tr>\n",
       "  </tbody>\n",
       "</table>\n",
       "</div>"
      ],
      "text/plain": [
       "   MultiCSVTimeSeriesDataset_index   key  index  num_timesteps\n",
       "0                                0  data      0         217811"
      ]
     },
     "execution_count": 14,
     "metadata": {},
     "output_type": "execute_result"
    }
   ],
   "source": [
    "# the original timeseries\n",
    "train_ds.dataset.dataset.dataset.dataset.get_meta_data_summary()"
   ]
  },
  {
   "cell_type": "code",
   "execution_count": 15,
   "metadata": {},
   "outputs": [
    {
     "name": "stderr",
     "output_type": "stream",
     "text": [
      "100%|█████████████████████████████████████████| 100/100 [00:27<00:00,  3.63it/s]\n"
     ]
    }
   ],
   "source": [
    "from tqdm import tqdm\n",
    "import torch \n",
    "\n",
    "all_series = None\n",
    "for ds in [train_ds]:\n",
    "    for idx in tqdm(range(100)):\n",
    "        ts = ds[idx]['x']\n",
    "        if all_series is None:\n",
    "            all_series = ts\n",
    "        else:\n",
    "            all_series = torch.cat((all_series, ts), dim=0)"
   ]
  },
  {
   "cell_type": "code",
   "execution_count": null,
   "metadata": {},
   "outputs": [],
   "source": []
  }
 ],
 "metadata": {
  "kernelspec": {
   "display_name": "Python 3 (ipykernel)",
   "language": "python",
   "name": "python3"
  },
  "language_info": {
   "codemirror_mode": {
    "name": "ipython",
    "version": 3
   },
   "file_extension": ".py",
   "mimetype": "text/x-python",
   "name": "python",
   "nbconvert_exporter": "python",
   "pygments_lexer": "ipython3",
   "version": "3.11.6"
  }
 },
 "nbformat": 4,
 "nbformat_minor": 4
}
